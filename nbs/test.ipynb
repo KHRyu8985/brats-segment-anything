{
 "cells": [
  {
   "cell_type": "code",
   "execution_count": 1,
   "metadata": {},
   "outputs": [
    {
     "name": "stderr",
     "output_type": "stream",
     "text": [
      "/home/kanghyun/.local/share/virtualenvs/brats-segment-anything-FPKB-5Bh/lib/python3.10/site-packages/ignite/handlers/checkpoint.py:17: DeprecationWarning: `TorchScript` support for functional optimizers is deprecated and will be removed in a future PyTorch release. Consider using the `torch.compile` optimizer instead.\n",
      "  from torch.distributed.optim import ZeroRedundancyOptimizer\n"
     ]
    },
    {
     "name": "stdout",
     "output_type": "stream",
     "text": [
      "2024-09-23 17:11:30,916 - INFO - Verified 'Task01_BrainTumour.tar', md5: 240a19d752f0d9e9101544901065d872.\n",
      "2024-09-23 17:11:30,917 - INFO - File exists: data/Task01_BrainTumour/Task01_BrainTumour.tar, skipped downloading.\n",
      "2024-09-23 17:11:30,917 - INFO - Non-empty folder exists in data/Task01_BrainTumour/Task01_BrainTumour, skipped extracting.\n",
      "Length of training data: 388\n",
      "2024-09-23 17:11:39,455 - INFO - Verified 'Task01_BrainTumour.tar', md5: 240a19d752f0d9e9101544901065d872.\n",
      "2024-09-23 17:11:39,456 - INFO - File exists: data/Task01_BrainTumour/Task01_BrainTumour.tar, skipped downloading.\n",
      "2024-09-23 17:11:39,456 - INFO - Non-empty folder exists in data/Task01_BrainTumour/Task01_BrainTumour, skipped extracting.\n",
      "Length of training data: 96\n"
     ]
    }
   ],
   "source": [
    "import autorootcwd\n",
    "from src.data.BratsDataset import train_loader, val_loader"
   ]
  },
  {
   "cell_type": "code",
   "execution_count": 22,
   "metadata": {},
   "outputs": [],
   "source": [
    "from src.segment_anything.modeling.image_encoder import ImageEncoderViT\n",
    "from src.segment_anything.modeling.prompt_encoder import PromptEncoder\n",
    "from src.segment_anything.modeling.mask_decoder import MaskDecoder\n",
    "\n"
   ]
  },
  {
   "cell_type": "code",
   "execution_count": 23,
   "metadata": {},
   "outputs": [
    {
     "name": "stderr",
     "output_type": "stream",
     "text": [
      "Initializing zero-element tensors is a no-op\n"
     ]
    }
   ],
   "source": [
    "image_encoder = ImageEncoderViT(img_size=64, patch_size=4, in_chans=1)\n",
    "prompt_encoder = PromptEncoder(embed_dim=256, image_embedding_size=(16,16), input_image_size=(64,64), mask_in_chans=1)\n",
    "mask_decoder = MaskDecoder()"
   ]
  },
  {
   "cell_type": "code",
   "execution_count": 15,
   "metadata": {},
   "outputs": [],
   "source": [
    "data = next(iter(train_loader))\n",
    "img, seg, bbox = data[0], data[1], data[2]"
   ]
  },
  {
   "cell_type": "code",
   "execution_count": 24,
   "metadata": {},
   "outputs": [
    {
     "name": "stdout",
     "output_type": "stream",
     "text": [
      "torch.Size([2, 256, 16, 16])\n"
     ]
    }
   ],
   "source": [
    "image_embedding = image_encoder(img)\n",
    "print(image_embedding.shape)"
   ]
  },
  {
   "cell_type": "code",
   "execution_count": 30,
   "metadata": {},
   "outputs": [
    {
     "name": "stdout",
     "output_type": "stream",
     "text": [
      "torch.Size([2, 2, 256]) torch.Size([2, 256, 16, 16])\n"
     ]
    }
   ],
   "source": [
    "sparse_embeddings, dense_embeddings = prompt_encoder(points=None, boxes=bbox, masks=None)\n",
    "print(sparse_embeddings.shape, dense_embeddings.shape)"
   ]
  },
  {
   "cell_type": "code",
   "execution_count": 29,
   "metadata": {},
   "outputs": [
    {
     "name": "stdout",
     "output_type": "stream",
     "text": [
      "torch.Size([2, 2, 256]) torch.Size([2, 256, 16, 16])\n"
     ]
    }
   ],
   "source": []
  },
  {
   "cell_type": "code",
   "execution_count": null,
   "metadata": {},
   "outputs": [],
   "source": []
  }
 ],
 "metadata": {
  "kernelspec": {
   "display_name": "MedSAM",
   "language": "python",
   "name": "medsam"
  },
  "language_info": {
   "codemirror_mode": {
    "name": "ipython",
    "version": 3
   },
   "file_extension": ".py",
   "mimetype": "text/x-python",
   "name": "python",
   "nbconvert_exporter": "python",
   "pygments_lexer": "ipython3",
   "version": "3.10.12"
  }
 },
 "nbformat": 4,
 "nbformat_minor": 2
}
